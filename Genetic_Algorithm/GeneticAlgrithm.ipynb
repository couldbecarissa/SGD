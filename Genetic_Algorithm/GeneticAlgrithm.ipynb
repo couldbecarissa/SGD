{
 "cells": [
  {
   "cell_type": "markdown",
   "id": "0c5134f4",
   "metadata": {},
   "source": [
    "The book used as a primary resource:https://www.boente.eti.br/fuzzy/ebook-fuzzy-mitchell.pdf"
   ]
  },
  {
   "cell_type": "code",
   "execution_count": 1,
   "id": "b92ced18",
   "metadata": {},
   "outputs": [],
   "source": [
    "import numpy as np\n",
    "import pandas as pd"
   ]
  },
  {
   "cell_type": "code",
   "execution_count": 2,
   "id": "bd5e8886",
   "metadata": {},
   "outputs": [],
   "source": [
    "binary_df=pd.read_csv('binary_chroms.csv')\n",
    "real_df=pd.read_csv('real_value_chroms.csv')"
   ]
  },
  {
   "cell_type": "code",
   "execution_count": 3,
   "id": "f13b738f",
   "metadata": {},
   "outputs": [],
   "source": [
    "binary_array=binary_df['chromosome'].values"
   ]
  },
  {
   "cell_type": "code",
   "execution_count": 5,
   "id": "9a6d5719",
   "metadata": {},
   "outputs": [],
   "source": [
    "N=20#Population Size\n",
    "pm=.8#Mutation Rate"
   ]
  },
  {
   "cell_type": "code",
   "execution_count": 6,
   "id": "33b9e547",
   "metadata": {},
   "outputs": [],
   "source": [
    "def inttolist(numeric):\n",
    "    binary_list = []\n",
    "    for bit in numeric:\n",
    "        binary_list.append(int(bit))\n",
    "    return binary_list"
   ]
  },
  {
   "cell_type": "code",
   "execution_count": 7,
   "id": "cec0e4c7",
   "metadata": {},
   "outputs": [],
   "source": [
    "def fitness_population(binary_array, target, type='Binary'):\n",
    "    if type=='Binary':\n",
    "        target_list = inttolist(target)\n",
    "        fitness_values = []\n",
    "        for chromosome in binary_array:\n",
    "            chrom_list = inttolist(str(chromosome))\n",
    "            matches = 0\n",
    "            min_length = min(len(chrom_list), len(target_list))\n",
    "            \n",
    "            for i in range(min_length):\n",
    "                if chrom_list[i] == target_list[i]:\n",
    "                    matches += 1\n",
    "            fitness_value = (matches / len(target_list)) * 100\n",
    "            fitness_values.append(fitness_value)\n",
    "    \n",
    "    return fitness_values"
   ]
  },
  {
   "cell_type": "code",
   "execution_count": 8,
   "id": "6924c3a2",
   "metadata": {},
   "outputs": [],
   "source": [
    "def gene_selection(genes,style='Tournament'):\n",
    "    fitness_values=fitness_population(binary_array=genes,target=input(\"Wetin you want?\"))\n",
    "    fitness_values=np.array(fitness_values)\n",
    "    selected_parents=[]\n",
    "    selected_fitness=[]\n",
    "    if style=='Tournament':\n",
    "        k=np.random.randint(2,7)\n",
    "        for _ in range(10):#range() determines the number of parents you want to extract\n",
    "            tournament_index=np.random.choice(len(fitness_values),size=k)\n",
    "            tournament_fit_values=fitness_values[tournament_index]\n",
    "            winner_indx_per_tourney=np.argmax(tournament_fit_values)\n",
    "            winner_indx=tournament_index[winner_indx_per_tourney]\n",
    "            selected_parents.append(genes[winner_indx])\n",
    "            selected_fitness.append(fitness_values[winner_indx])\n",
    "    elif style=='Roulette wheel':\n",
    "        total_fitness=np.sum(fitness_values)\n",
    "        prob=fitness_values/total_fitness\n",
    "        cumulative_prob=np.cumsum(prob)\n",
    "        for _ in range(10):\n",
    "            p=np.random.random()\n",
    "            for i,cum_prob in enumerate(cumulative_prob):\n",
    "                if p<=cum_prob:\n",
    "                    selected_parents.append(genes[i])\n",
    "                    selected_fitness.append(fitness_values[i])\n",
    "    elif style=='Rank Based':\n",
    "        sorted_fitness=np.sort(fitness_values)\n",
    "        rank=np.arange(1,len(sorted_fitness))\n",
    "        total_ranking=np.sum(rank)\n",
    "        prob=rank/total_ranking\n",
    "        cumulative_prob=np.cumsum(prob)\n",
    "        for _ in range(10):\n",
    "            p=np.random.random()\n",
    "            for i,cum_prob in enumerate(cumulative_prob):\n",
    "                if p<=cum_prob:\n",
    "                    selected_parents.append(genes[i])\n",
    "                    selected_fitness.append(fitness_values[i])\n",
    "    return selected_fitness,selected_parents"
   ]
  },
  {
   "cell_type": "code",
   "execution_count": 27,
   "id": "2824ef0e",
   "metadata": {},
   "outputs": [],
   "source": [
    "def gene_crossover(selected_parents,type='Single Point'):\n",
    "    parents=np.array(selected_parents)\n",
    "    children=[]\n",
    "    n_parents=len(parents)\n",
    "    if n_parents % 2 != 0:\n",
    "        # If odd number of parents, duplicate the last one\n",
    "        parents = np.append(parents, [parents[-1]], axis=0)\n",
    "        n_parents += 1\n",
    "    if type=='Single Point':\n",
    "        k=np.random.randint(0,len(selected_parents))\n",
    "        for _ in range(10):#range() determines the number of parents you want to extract\n",
    "            crossover_index=np.random.choice(len(parents),size=2)\n",
    "            parent1=parents[crossover_index[0]]\n",
    "            parent2=parents[crossover_index[1]]\n",
    "            parent1=np.array([parent1])\n",
    "            parent2=np.array([parent2])\n",
    "            \n",
    "            child1=np.concatenate((parent1[:k],\n",
    "                                   parent2[k:len(selected_parents)]),axis=None)\n",
    "            child2=np.concatenate((parent2[:k],\n",
    "                                   parent1[k:len(selected_parents)]),axis=None)\n",
    "            children.append(child1)\n",
    "            children.append(child2)\n",
    "        return children\n",
    "    elif type=='Two Point':\n",
    "        k1=np.random.randint(0,len(selected_parents))\n",
    "        k2=np.random.randint(0,len(selected_parents))\n",
    "        if k1!=k2:\n",
    "            for _ in range(10):#range() determines the number of parents you want to extract\n",
    "                crossover_index=np.random.choice(len(parents),size=2)\n",
    "                parent1=parents[crossover_index[0]]\n",
    "                parent2=parents[crossover_index[1]]\n",
    "                parent1=np.array([parent1])\n",
    "                parent2=np.array([parent2])\n",
    "                child1 = np.concatenate((\n",
    "                parent1[:k1],\n",
    "                parent2[k1:k2],\n",
    "                parent1[k2:]\n",
    "            ),axis=None)\n",
    "            child2 = np.concatenate((\n",
    "                parent2[:k1],\n",
    "                parent1[k1:k2],\n",
    "                parent2[k2:]\n",
    "            ),axis=None)\n",
    "            children.append(child1)\n",
    "            children.append(child2)\n",
    "        return children\n",
    "    elif type=='Uniform':\n",
    "        mask=[]\n",
    "        child1=np.array()\n",
    "        child2=np.array()\n",
    "        for _ in len(parents):\n",
    "            x=np.random.randint(0,1)\n",
    "            mask.append(x)\n",
    "\n",
    "        for point in mask:\n",
    "            if point==0:\n",
    "                child1[point]=parent1[point]\n",
    "                child2[point]=parent2[point]\n",
    "            elif point==1:\n",
    "                child1[point]=parent2[point]\n",
    "                child2[point]=parent1[point]\n",
    "            children.append(child1,child2)\n",
    "    return children"
   ]
  },
  {
   "cell_type": "code",
   "execution_count": 10,
   "id": "bd023368",
   "metadata": {},
   "outputs": [
    {
     "name": "stdout",
     "output_type": "stream",
     "text": [
      "[25.0, 50.0, 25.0, 50.0, 37.5, 50.0, 50.0, 50.0, 12.5, 25.0, 25.0, 50.0, 25.0, 50.0, 37.5, 50.0, 50.0, 50.0, 12.5, 25.0, 50.0, 25.0, 50.0, 37.5, 50.0, 50.0, 50.0, 12.5, 50.0, 50.0, 50.0, 12.5, 37.5, 50.0, 25.0, 25.0, 50.0, 37.5, 50.0, 50.0, 25.0, 25.0, 50.0, 25.0, 50.0, 37.5, 50.0, 50.0, 50.0, 12.5, 50.0, 25.0, 25.0, 50.0, 37.5, 50.0, 50.0, 25.0, 25.0, 50.0, 25.0, 50.0, 37.5, 50.0, 50.0, 50.0, 12.5, 50.0, 37.5, 50.0, 25.0, 25.0, 50.0, 37.5, 50.0, 50.0, 25.0, 25.0, 50.0, 25.0, 50.0, 37.5, 50.0, 50.0, 50.0, 12.5, 37.5, 50.0, 50.0, 25.0, 25.0, 50.0, 25.0, 50.0, 37.5, 50.0, 50.0, 50.0, 12.5, 50.0, 12.5, 25.0, 50.0, 25.0, 50.0, 37.5, 50.0, 50.0, 50.0, 12.5]\n",
      "[11001111010010, 1010101010101010, 1111010101110, 1100010101101001, 110101100011110, 1011010001111000, 101010101010101, 1111000010101101, 111101110101, 1110110100101001, 11001111010010, 1010101010101010, 1111010101110, 1100010101101001, 110101100011110, 1011010001111000, 101010101010101, 1111000010101101, 111101110101, 11001111010010, 1010101010101010, 1111010101110, 1100010101101001, 110101100011110, 1011010001111000, 101010101010101, 1111000010101101, 111101110101, 1011010001111000, 101010101010101, 1111000010101101, 111101110101, 10101110110111, 1110001001011001, 101101110101100, 11110101100010, 1101001010110101, 100111010010110, 1001010111001101, 110101001101011, 1110110100101001, 11001111010010, 1010101010101010, 1111010101110, 1100010101101001, 110101100011110, 1011010001111000, 101010101010101, 1111000010101101, 111101110101, 1110001001011001, 101101110101100, 11110101100010, 1101001010110101, 100111010010110, 1001010111001101, 110101001101011, 1110110100101001, 11001111010010, 1010101010101010, 1111010101110, 1100010101101001, 110101100011110, 1011010001111000, 101010101010101, 1111000010101101, 111101110101, 1100110001101010, 10101110110111, 1110001001011001, 101101110101100, 11110101100010, 1101001010110101, 100111010010110, 1001010111001101, 110101001101011, 1110110100101001, 11001111010010, 1010101010101010, 1111010101110, 1100010101101001, 110101100011110, 1011010001111000, 101010101010101, 1111000010101101, 111101110101, 100111010010110, 1001010111001101, 110101001101011, 1110110100101001, 11001111010010, 1010101010101010, 1111010101110, 1100010101101001, 110101100011110, 1011010001111000, 101010101010101, 1111000010101101, 111101110101, 1111000010101101, 111101110101, 11001111010010, 1010101010101010, 1111010101110, 1100010101101001, 110101100011110, 1011010001111000, 101010101010101, 1111000010101101, 111101110101]\n"
     ]
    }
   ],
   "source": [
    "x,y=gene_selection(binary_array,style='Roulette wheel')\n",
    "print(x)\n",
    "print(y)\n"
   ]
  },
  {
   "cell_type": "code",
   "execution_count": 28,
   "id": "d39c1bd3",
   "metadata": {},
   "outputs": [],
   "source": [
    "childs=gene_crossover(y,type='Two Point')"
   ]
  },
  {
   "cell_type": "code",
   "execution_count": 39,
   "id": "93a31704",
   "metadata": {},
   "outputs": [
    {
     "data": {
      "text/plain": [
       "array([1111010101110], dtype=int64)"
      ]
     },
     "execution_count": 39,
     "metadata": {},
     "output_type": "execute_result"
    }
   ],
   "source": [
    "childs[0]"
   ]
  },
  {
   "cell_type": "code",
   "execution_count": null,
   "id": "fd824022",
   "metadata": {},
   "outputs": [],
   "source": [
    "def gene_mutation(children):\n",
    "    for chromosome in children:\n",
    "        chromosome=inttolist(chromosome)\n",
    "        for bit in chromosome:\n",
    "            \n",
    "            \n",
    "\n"
   ]
  }
 ],
 "metadata": {
  "kernelspec": {
   "display_name": "Python 3",
   "language": "python",
   "name": "python3"
  },
  "language_info": {
   "codemirror_mode": {
    "name": "ipython",
    "version": 3
   },
   "file_extension": ".py",
   "mimetype": "text/x-python",
   "name": "python",
   "nbconvert_exporter": "python",
   "pygments_lexer": "ipython3",
   "version": "3.12.5"
  }
 },
 "nbformat": 4,
 "nbformat_minor": 5
}
